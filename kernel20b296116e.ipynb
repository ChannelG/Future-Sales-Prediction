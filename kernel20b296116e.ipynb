{
 "cells": [
  {
   "cell_type": "code",
   "execution_count": 2,
   "metadata": {
    "_cell_guid": "b1076dfc-b9ad-4769-8c92-a6c4dae69d19",
    "_uuid": "8f2839f25d086af736a60e9eeb907d3b93b6e0e5"
   },
   "outputs": [
    {
     "name": "stdout",
     "output_type": "stream",
     "text": [
      ".\\data\\items.csv\n",
      ".\\data\\item_categories.csv\n",
      ".\\data\\sales_train.csv\n",
      ".\\data\\sample_submission.csv\n",
      ".\\data\\shops.csv\n",
      ".\\data\\test.csv\n"
     ]
    }
   ],
   "source": [
    "# This Python 3 environment comes with many helpful analytics libraries installed\n",
    "# It is defined by the kaggle/python Docker image: https://github.com/kaggle/docker-python\n",
    "# For example, here's several helpful packages to load\n",
    "\n",
    "import numpy as np # linear algebra\n",
    "import pandas as pd # data processing, CSV file I/O (e.g. pd.read_csv)\n",
    "\n",
    "# Input data files are available in the read-only \"../input/\" directory\n",
    "# For example, running this (by clicking run or pressing Shift+Enter) will list all files under the input directory\n",
    "\n",
    "import os\n",
    "for dirname, _, filenames in os.walk('.\\data'):\n",
    "    for filename in filenames:\n",
    "        print(os.path.join(dirname, filename))\n",
    "\n",
    "# You can write up to 5GB to the current directory (/kaggle/working/) that gets preserved as output when you create a version using \"Save & Run All\" \n",
    "# You can also write temporary files to /kaggle/temp/, but they won't be saved outside of the current session"
   ]
  },
  {
   "cell_type": "code",
   "execution_count": 3,
   "metadata": {
    "_cell_guid": "79c7e3d0-c299-4dcb-8224-4455121ee9b0",
    "_uuid": "d629ff2d2480ee46fbb7e2d37f6b5fab8052498a"
   },
   "outputs": [
    {
     "name": "stderr",
     "output_type": "stream",
     "text": [
      "Using TensorFlow backend.\n"
     ]
    }
   ],
   "source": [
    "import matplotlib.pyplot as plt\n",
    "import seaborn as sns\n",
    "from sklearn.model_selection import train_test_split\n",
    "from keras.models import Sequential\n",
    "from keras.layers import Dense\n",
    "import keras.backend as K\n",
    "from sklearn.preprocessing import OneHotEncoder\n",
    "import category_encoders as ce\n",
    "\n",
    "sns.set_style('darkgrid')"
   ]
  },
  {
   "cell_type": "code",
   "execution_count": 4,
   "metadata": {},
   "outputs": [],
   "source": [
    "path = '/kaggle/input/competitive-data-science-predict-future-sales/'\n",
    "items = pd.read_csv(path+'items.csv')\n",
    "item_categories = pd.read_csv(path+'item_categories.csv')\n",
    "sales_train = pd.read_csv(path+'sales_train.csv')\n",
    "shops = pd.read_csv(path+'shops.csv')\n",
    "test = pd.read_csv(path+'test.csv')"
   ]
  },
  {
   "cell_type": "code",
   "execution_count": 5,
   "metadata": {},
   "outputs": [
    {
     "data": {
      "text/html": [
       "<div>\n",
       "<style scoped>\n",
       "    .dataframe tbody tr th:only-of-type {\n",
       "        vertical-align: middle;\n",
       "    }\n",
       "\n",
       "    .dataframe tbody tr th {\n",
       "        vertical-align: top;\n",
       "    }\n",
       "\n",
       "    .dataframe thead th {\n",
       "        text-align: right;\n",
       "    }\n",
       "</style>\n",
       "<table border=\"1\" class=\"dataframe\">\n",
       "  <thead>\n",
       "    <tr style=\"text-align: right;\">\n",
       "      <th></th>\n",
       "      <th>date</th>\n",
       "      <th>date_block_num</th>\n",
       "      <th>shop_id</th>\n",
       "      <th>item_id</th>\n",
       "      <th>item_price</th>\n",
       "      <th>item_cnt_day</th>\n",
       "    </tr>\n",
       "  </thead>\n",
       "  <tbody>\n",
       "    <tr>\n",
       "      <th>0</th>\n",
       "      <td>02.01.2013</td>\n",
       "      <td>0</td>\n",
       "      <td>59</td>\n",
       "      <td>22154</td>\n",
       "      <td>999.00</td>\n",
       "      <td>1.0</td>\n",
       "    </tr>\n",
       "    <tr>\n",
       "      <th>1</th>\n",
       "      <td>03.01.2013</td>\n",
       "      <td>0</td>\n",
       "      <td>25</td>\n",
       "      <td>2552</td>\n",
       "      <td>899.00</td>\n",
       "      <td>1.0</td>\n",
       "    </tr>\n",
       "    <tr>\n",
       "      <th>2</th>\n",
       "      <td>05.01.2013</td>\n",
       "      <td>0</td>\n",
       "      <td>25</td>\n",
       "      <td>2552</td>\n",
       "      <td>899.00</td>\n",
       "      <td>-1.0</td>\n",
       "    </tr>\n",
       "    <tr>\n",
       "      <th>3</th>\n",
       "      <td>06.01.2013</td>\n",
       "      <td>0</td>\n",
       "      <td>25</td>\n",
       "      <td>2554</td>\n",
       "      <td>1709.05</td>\n",
       "      <td>1.0</td>\n",
       "    </tr>\n",
       "    <tr>\n",
       "      <th>4</th>\n",
       "      <td>15.01.2013</td>\n",
       "      <td>0</td>\n",
       "      <td>25</td>\n",
       "      <td>2555</td>\n",
       "      <td>1099.00</td>\n",
       "      <td>1.0</td>\n",
       "    </tr>\n",
       "  </tbody>\n",
       "</table>\n",
       "</div>"
      ],
      "text/plain": [
       "         date  date_block_num  shop_id  item_id  item_price  item_cnt_day\n",
       "0  02.01.2013               0       59    22154      999.00           1.0\n",
       "1  03.01.2013               0       25     2552      899.00           1.0\n",
       "2  05.01.2013               0       25     2552      899.00          -1.0\n",
       "3  06.01.2013               0       25     2554     1709.05           1.0\n",
       "4  15.01.2013               0       25     2555     1099.00           1.0"
      ]
     },
     "execution_count": 5,
     "metadata": {},
     "output_type": "execute_result"
    }
   ],
   "source": [
    "sales_train.head()"
   ]
  },
  {
   "cell_type": "code",
   "execution_count": 60,
   "metadata": {},
   "outputs": [
    {
     "name": "stdout",
     "output_type": "stream",
     "text": [
      "num_item_id: 2935849\n",
      "unique_item_id: 21807\n"
     ]
    },
    {
     "data": {
      "image/png": "[encoded data removed]",
      "text/plain": [
       "<Figure size 432x288 with 1 Axes>"
      ]
     },
     "metadata": {},
     "output_type": "display_data"
    }
   ],
   "source": [
    "sns.distplot(a=sales_train.date_block_num,kde=False,color='b')\n",
    "print('num_item_id: %d'%(sales_train.item_id.size))\n",
    "print('unique_item_id: %d'%(sales_train.item_id.unique().size))"
   ]
  },
  {
   "cell_type": "code",
   "execution_count": 85,
   "metadata": {},
   "outputs": [
    {
     "name": "stdout",
     "output_type": "stream",
     "text": [
      "i_mun: 84\n",
      "s_mun: 60\n"
     ]
    }
   ],
   "source": [
    "item_cat = pd.Series(data=items.item_category_id,index=items.item_id,name='item_category_id')\n",
    "item_cat = sales_train.item_id.map(lambda p:item_cat[p])\n",
    "item_cat.name = 'item_category_id'\n",
    "sales_train_new = pd.concat([sales_train,item_cat],axis=1)\n",
    "i_num = sales_train_new.item_category_id.unique().size\n",
    "s_num = sales_train_new.shop_id.unique().size\n",
    "print('item_category_id_mun: %d'%i_num)\n",
    "print('shop_id_mun: %d'%s_num)"
   ]
  },
  {
   "cell_type": "code",
   "execution_count": 98,
   "metadata": {},
   "outputs": [
    {
     "data": {
      "image/png": "[encoded data removed]",
      "text/plain": [
       "<Figure size 576x648 with 2 Axes>"
      ]
     },
     "metadata": {},
     "output_type": "display_data"
    }
   ],
   "source": [
    "ind = (sales_train_new.item_cnt_day<10000) & (sales_train_new.item_cnt_day>0)\n",
    "\n",
    "plt.figure(figsize=(8,9))\n",
    "plt.subplot(2,1,1)\n",
    "sns.distplot(a=sales_train_new[ind].item_cnt_day,kde=False,color='b')\n",
    "plt.subplot(2,1,2)\n",
    "sns.scatterplot(x='item_category_id',y='item_cnt_day',data=sales_train_new[ind])\n",
    "\n",
    "sales_train.item_cnt_day[ind].describe()\n",
    "sales_train_new = sales_train_new[ind]"
   ]
  },
  {
   "cell_type": "code",
   "execution_count": 162,
   "metadata": {},
   "outputs": [
    {
     "data": {
      "text/html": [
       "<div>\n",
       "<style scoped>\n",
       "    .dataframe tbody tr th:only-of-type {\n",
       "        vertical-align: middle;\n",
       "    }\n",
       "\n",
       "    .dataframe tbody tr th {\n",
       "        vertical-align: top;\n",
       "    }\n",
       "\n",
       "    .dataframe thead th {\n",
       "        text-align: right;\n",
       "    }\n",
       "</style>\n",
       "<table border=\"1\" class=\"dataframe\">\n",
       "  <thead>\n",
       "    <tr style=\"text-align: right;\">\n",
       "      <th></th>\n",
       "      <th>date</th>\n",
       "      <th>date_block_num</th>\n",
       "      <th>shop_id</th>\n",
       "      <th>item_id</th>\n",
       "      <th>item_price</th>\n",
       "      <th>item_cnt_day</th>\n",
       "      <th>item_category_id</th>\n",
       "    </tr>\n",
       "  </thead>\n",
       "  <tbody>\n",
       "    <tr>\n",
       "      <th>566159</th>\n",
       "      <td>11.06.2013</td>\n",
       "      <td>5</td>\n",
       "      <td>12</td>\n",
       "      <td>2808</td>\n",
       "      <td>999.000000</td>\n",
       "      <td>200.0</td>\n",
       "      <td>30</td>\n",
       "    </tr>\n",
       "    <tr>\n",
       "      <th>620237</th>\n",
       "      <td>14.06.2013</td>\n",
       "      <td>5</td>\n",
       "      <td>42</td>\n",
       "      <td>16787</td>\n",
       "      <td>2559.746729</td>\n",
       "      <td>107.0</td>\n",
       "      <td>19</td>\n",
       "    </tr>\n",
       "    <tr>\n",
       "      <th>836296</th>\n",
       "      <td>29.08.2013</td>\n",
       "      <td>7</td>\n",
       "      <td>12</td>\n",
       "      <td>2808</td>\n",
       "      <td>999.000000</td>\n",
       "      <td>150.0</td>\n",
       "      <td>30</td>\n",
       "    </tr>\n",
       "    <tr>\n",
       "      <th>845690</th>\n",
       "      <td>18.09.2013</td>\n",
       "      <td>8</td>\n",
       "      <td>42</td>\n",
       "      <td>3732</td>\n",
       "      <td>2521.211982</td>\n",
       "      <td>217.0</td>\n",
       "      <td>19</td>\n",
       "    </tr>\n",
       "    <tr>\n",
       "      <th>845703</th>\n",
       "      <td>18.09.2013</td>\n",
       "      <td>8</td>\n",
       "      <td>42</td>\n",
       "      <td>3734</td>\n",
       "      <td>2520.730769</td>\n",
       "      <td>104.0</td>\n",
       "      <td>23</td>\n",
       "    </tr>\n",
       "    <tr>\n",
       "      <th>...</th>\n",
       "      <td>...</td>\n",
       "      <td>...</td>\n",
       "      <td>...</td>\n",
       "      <td>...</td>\n",
       "      <td>...</td>\n",
       "      <td>...</td>\n",
       "      <td>...</td>\n",
       "    </tr>\n",
       "    <tr>\n",
       "      <th>2864262</th>\n",
       "      <td>28.09.2015</td>\n",
       "      <td>32</td>\n",
       "      <td>12</td>\n",
       "      <td>9248</td>\n",
       "      <td>1500.000000</td>\n",
       "      <td>139.0</td>\n",
       "      <td>80</td>\n",
       "    </tr>\n",
       "    <tr>\n",
       "      <th>2864264</th>\n",
       "      <td>30.09.2015</td>\n",
       "      <td>32</td>\n",
       "      <td>12</td>\n",
       "      <td>9244</td>\n",
       "      <td>1296.273292</td>\n",
       "      <td>161.0</td>\n",
       "      <td>80</td>\n",
       "    </tr>\n",
       "    <tr>\n",
       "      <th>2909401</th>\n",
       "      <td>14.10.2015</td>\n",
       "      <td>33</td>\n",
       "      <td>12</td>\n",
       "      <td>20949</td>\n",
       "      <td>4.000000</td>\n",
       "      <td>500.0</td>\n",
       "      <td>71</td>\n",
       "    </tr>\n",
       "    <tr>\n",
       "      <th>2909818</th>\n",
       "      <td>28.10.2015</td>\n",
       "      <td>33</td>\n",
       "      <td>12</td>\n",
       "      <td>11373</td>\n",
       "      <td>0.908714</td>\n",
       "      <td>2169.0</td>\n",
       "      <td>9</td>\n",
       "    </tr>\n",
       "    <tr>\n",
       "      <th>2918705</th>\n",
       "      <td>02.10.2015</td>\n",
       "      <td>33</td>\n",
       "      <td>9</td>\n",
       "      <td>4201</td>\n",
       "      <td>399.000000</td>\n",
       "      <td>110.0</td>\n",
       "      <td>75</td>\n",
       "    </tr>\n",
       "  </tbody>\n",
       "</table>\n",
       "<p>138 rows × 7 columns</p>\n",
       "</div>"
      ],
      "text/plain": [
       "               date  date_block_num  shop_id  item_id   item_price  \\\n",
       "566159   11.06.2013               5       12     2808   999.000000   \n",
       "620237   14.06.2013               5       42    16787  2559.746729   \n",
       "836296   29.08.2013               7       12     2808   999.000000   \n",
       "845690   18.09.2013               8       42     3732  2521.211982   \n",
       "845703   18.09.2013               8       42     3734  2520.730769   \n",
       "...             ...             ...      ...      ...          ...   \n",
       "2864262  28.09.2015              32       12     9248  1500.000000   \n",
       "2864264  30.09.2015              32       12     9244  1296.273292   \n",
       "2909401  14.10.2015              33       12    20949     4.000000   \n",
       "2909818  28.10.2015              33       12    11373     0.908714   \n",
       "2918705  02.10.2015              33        9     4201   399.000000   \n",
       "\n",
       "         item_cnt_day  item_category_id  \n",
       "566159          200.0                30  \n",
       "620237          107.0                19  \n",
       "836296          150.0                30  \n",
       "845690          217.0                19  \n",
       "845703          104.0                23  \n",
       "...               ...               ...  \n",
       "2864262         139.0                80  \n",
       "2864264         161.0                80  \n",
       "2909401         500.0                71  \n",
       "2909818        2169.0                 9  \n",
       "2918705         110.0                75  \n",
       "\n",
       "[138 rows x 7 columns]"
      ]
     },
     "execution_count": 162,
     "metadata": {},
     "output_type": "execute_result"
    }
   ],
   "source": [
    "ind2 = (sales_train_new.item_cnt_day>100)\n",
    "sales_train_new[ind2]"
   ]
  },
  {
   "cell_type": "code",
   "execution_count": 171,
   "metadata": {},
   "outputs": [
    {
     "name": "stdout",
     "output_type": "stream",
     "text": [
      "item_name           Одни из нас [PS3, русская версия]\n",
      "item_id                                         16787\n",
      "item_category_id                                   19\n",
      "Name: 16787, dtype: object\n"
     ]
    },
    {
     "data": {
      "text/plain": [
       "item_category_name    Игры - PS3\n",
       "item_category_id              19\n",
       "Name: 19, dtype: object"
      ]
     },
     "execution_count": 171,
     "metadata": {},
     "output_type": "execute_result"
    }
   ],
   "source": [
    "print(items.iloc[16787])\n",
    "item_categories.iloc[30]"
   ]
  },
  {
   "cell_type": "code",
   "execution_count": 142,
   "metadata": {},
   "outputs": [],
   "source": [
    "features = ['item_category_id','shop_id','item_id']\n",
    "\n",
    "#index = []\n",
    "#for i in range(i_num):\n",
    "#    index += ['item_category_id_'+str(i)]\n",
    "\n",
    "#for j in range(s_num):\n",
    "#    index += ['shop_id_'+str(j)]\n",
    "#encoder = OneHotEncoder()\n",
    "#features_ec = encoder.fit_transform(sales_train_new[features]).toarray()\n",
    "#features_ec = pd.DataFrame(features_ec,index=sales_train_new.index,columns=index)\n",
    "#features_ec = features_ec.join(sales_train_new['date_block_num'])\n",
    "\n",
    "## Target Encoder\n",
    "target_enc = ce.TargetEncoder(cols = features)\n",
    "features_ec = target_enc.fit_transform(sales_train_new[features],sales_train_new['item_cnt_day'])\n",
    "features_ec = pd.DataFrame(features_ec,index=sales_train_new.index)\n",
    "features_ec = features_ec.join(sales_train_new['date_block_num'])\n",
    "\n",
    "## CatBoost Encoder\n",
    "#catboost_enc = ce.CatBoostEncoder(cols = features)\n",
    "#features_ec = catboost_enc.fit_transform(sales_train_new[features],sales_train_new['item_cnt_day'])\n",
    "#features_ec = pd.DataFrame(features_ec,index=sales_train_new.index)\n",
    "#features_ec = features_ec.join(sales_train_new['date_block_num'])"
   ]
  },
  {
   "cell_type": "code",
   "execution_count": 143,
   "metadata": {},
   "outputs": [
    {
     "data": {
      "image/png": "[encoded data removed]",
      "text/plain": [
       "<Figure size 720x720 with 3 Axes>"
      ]
     },
     "metadata": {},
     "output_type": "display_data"
    }
   ],
   "source": [
    "plt.figure(figsize=(10,10))\n",
    "plt.subplot(3,1,1)\n",
    "sns.distplot(a=features_ec.item_category_id,kde=False)\n",
    "plt.subplot(3,1,2)\n",
    "sns.distplot(a=features_ec.shop_id,kde=False)\n",
    "plt.subplot(3,1,3)\n",
    "sns.distplot(a=features_ec.item_id,kde=False)\n",
    "plt.show()"
   ]
  },
  {
   "cell_type": "code",
   "execution_count": 140,
   "metadata": {},
   "outputs": [],
   "source": [
    "X = features_ec\n",
    "Y = sales_train_new['item_cnt_day']\n",
    "x_train,x_test,y_train,y_test = train_test_split(X,Y,test_size=0.2)"
   ]
  },
  {
   "cell_type": "code",
   "execution_count": 130,
   "metadata": {},
   "outputs": [],
   "source": [
    "def rmse(y_true,y_pred):\n",
    "    return K.sqrt(K.mean(K.square((y_true-y_pred))))"
   ]
  },
  {
   "cell_type": "code",
   "execution_count": 141,
   "metadata": {},
   "outputs": [
    {
     "name": "stdout",
     "output_type": "stream",
     "text": [
      "Train on 2342794 samples, validate on 585699 samples\n",
      "Epoch 1/5\n",
      "2342794/2342794 [==============================] - 5s 2us/step - loss: 7.0474 - rmse: 1.8774 - val_loss: 3.6475 - val_rmse: 1.6228\n",
      "Epoch 2/5\n",
      "2342794/2342794 [==============================] - 4s 2us/step - loss: 6.9735 - rmse: 1.8661 - val_loss: 3.6713 - val_rmse: 1.6305\n",
      "Epoch 3/5\n",
      "2342794/2342794 [==============================] - 5s 2us/step - loss: 6.9642 - rmse: 1.8715 - val_loss: 3.6310 - val_rmse: 1.6166\n",
      "Epoch 4/5\n",
      "2342794/2342794 [==============================] - 5s 2us/step - loss: 6.9615 - rmse: 1.8658 - val_loss: 3.6344 - val_rmse: 1.6179\n",
      "Epoch 5/5\n",
      "2342794/2342794 [==============================] - 4s 2us/step - loss: 6.9552 - rmse: 1.8638 - val_loss: 3.8457 - val_rmse: 1.6906\n"
     ]
    },
    {
     "data": {
      "text/plain": [
       "<keras.callbacks.callbacks.History at 0x7ff1610ea310>"
      ]
     },
     "execution_count": 141,
     "metadata": {},
     "output_type": "execute_result"
    }
   ],
   "source": [
    "model = Sequential()\n",
    "model.add(Dense(32,activation='relu'))\n",
    "model.add(Dense(64,activation='relu'))\n",
    "#model.add(Dense(32,activation='relu'))\n",
    "model.add(Dense(1,activation='linear'))\n",
    "\n",
    "model.compile(loss='mse',optimizer='adam',metrics=[rmse])\n",
    "model.fit(np.array(x_train),np.array(y_train),validation_data=(np.array(x_test),np.array(y_test)),epochs=5,batch_size=5000)"
   ]
  },
  {
   "cell_type": "code",
   "execution_count": 82,
   "metadata": {},
   "outputs": [],
   "source": [
    "del model"
   ]
  },
  {
   "cell_type": "code",
   "execution_count": 133,
   "metadata": {},
   "outputs": [
    {
     "data": {
      "text/html": [
       "<div>\n",
       "<style scoped>\n",
       "    .dataframe tbody tr th:only-of-type {\n",
       "        vertical-align: middle;\n",
       "    }\n",
       "\n",
       "    .dataframe tbody tr th {\n",
       "        vertical-align: top;\n",
       "    }\n",
       "\n",
       "    .dataframe thead th {\n",
       "        text-align: right;\n",
       "    }\n",
       "</style>\n",
       "<table border=\"1\" class=\"dataframe\">\n",
       "  <thead>\n",
       "    <tr style=\"text-align: right;\">\n",
       "      <th></th>\n",
       "      <th>item_category_id</th>\n",
       "      <th>shop_id</th>\n",
       "      <th>item_id</th>\n",
       "      <th>date_block_num</th>\n",
       "    </tr>\n",
       "  </thead>\n",
       "  <tbody>\n",
       "    <tr>\n",
       "      <th>2039459</th>\n",
       "      <td>1.624719</td>\n",
       "      <td>1.264951</td>\n",
       "      <td>1.903158</td>\n",
       "      <td>21</td>\n",
       "    </tr>\n",
       "    <tr>\n",
       "      <th>2048818</th>\n",
       "      <td>1.167001</td>\n",
       "      <td>2.159409</td>\n",
       "      <td>1.098655</td>\n",
       "      <td>21</td>\n",
       "    </tr>\n",
       "    <tr>\n",
       "      <th>1687193</th>\n",
       "      <td>1.303808</td>\n",
       "      <td>1.242558</td>\n",
       "      <td>1.162907</td>\n",
       "      <td>16</td>\n",
       "    </tr>\n",
       "    <tr>\n",
       "      <th>2113171</th>\n",
       "      <td>1.098375</td>\n",
       "      <td>1.185675</td>\n",
       "      <td>1.241958</td>\n",
       "      <td>22</td>\n",
       "    </tr>\n",
       "    <tr>\n",
       "      <th>1956137</th>\n",
       "      <td>1.233325</td>\n",
       "      <td>1.185057</td>\n",
       "      <td>1.106207</td>\n",
       "      <td>20</td>\n",
       "    </tr>\n",
       "    <tr>\n",
       "      <th>...</th>\n",
       "      <td>...</td>\n",
       "      <td>...</td>\n",
       "      <td>...</td>\n",
       "      <td>...</td>\n",
       "    </tr>\n",
       "    <tr>\n",
       "      <th>2822405</th>\n",
       "      <td>1.064949</td>\n",
       "      <td>1.323341</td>\n",
       "      <td>1.011050</td>\n",
       "      <td>31</td>\n",
       "    </tr>\n",
       "    <tr>\n",
       "      <th>2454076</th>\n",
       "      <td>1.125806</td>\n",
       "      <td>1.156484</td>\n",
       "      <td>1.206667</td>\n",
       "      <td>25</td>\n",
       "    </tr>\n",
       "    <tr>\n",
       "      <th>1898630</th>\n",
       "      <td>1.444921</td>\n",
       "      <td>1.149296</td>\n",
       "      <td>1.133333</td>\n",
       "      <td>19</td>\n",
       "    </tr>\n",
       "    <tr>\n",
       "      <th>164188</th>\n",
       "      <td>1.125806</td>\n",
       "      <td>1.156120</td>\n",
       "      <td>1.000000</td>\n",
       "      <td>1</td>\n",
       "    </tr>\n",
       "    <tr>\n",
       "      <th>2684912</th>\n",
       "      <td>1.029260</td>\n",
       "      <td>1.303836</td>\n",
       "      <td>1.007692</td>\n",
       "      <td>29</td>\n",
       "    </tr>\n",
       "  </tbody>\n",
       "</table>\n",
       "<p>2342794 rows × 4 columns</p>\n",
       "</div>"
      ],
      "text/plain": [
       "         item_category_id   shop_id   item_id  date_block_num\n",
       "2039459          1.624719  1.264951  1.903158              21\n",
       "2048818          1.167001  2.159409  1.098655              21\n",
       "1687193          1.303808  1.242558  1.162907              16\n",
       "2113171          1.098375  1.185675  1.241958              22\n",
       "1956137          1.233325  1.185057  1.106207              20\n",
       "...                   ...       ...       ...             ...\n",
       "2822405          1.064949  1.323341  1.011050              31\n",
       "2454076          1.125806  1.156484  1.206667              25\n",
       "1898630          1.444921  1.149296  1.133333              19\n",
       "164188           1.125806  1.156120  1.000000               1\n",
       "2684912          1.029260  1.303836  1.007692              29\n",
       "\n",
       "[2342794 rows x 4 columns]"
      ]
     },
     "execution_count": 133,
     "metadata": {},
     "output_type": "execute_result"
    }
   ],
   "source": [
    "x_train"
   ]
  },
  {
   "cell_type": "code",
   "execution_count": null,
   "metadata": {},
   "outputs": [],
   "source": []
  }
 ],
 "metadata": {
  "kernelspec": {
   "display_name": "Python 3",
   "language": "python",
   "name": "python3"
  },
  "language_info": {
   "codemirror_mode": {
    "name": "ipython",
    "version": 3
   },
   "file_extension": ".py",
   "mimetype": "text/x-python",
   "name": "python",
   "nbconvert_exporter": "python",
   "pygments_lexer": "ipython3",
   "version": "3.7.3"
  }
 },
 "nbformat": 4,
 "nbformat_minor": 4
}
